{
 "cells": [
  {
   "cell_type": "markdown",
   "metadata": {},
   "source": [
    "# Step 8: Model Deployment Using FastAPI"
   ]
  },
  {
   "cell_type": "markdown",
   "metadata": {},
   "source": [
    "**Process and Purpose**  \n",
    "1. We specify the exact run ID and model name from MLflow to load the best performing model.  \n",
    "2. We define a FastAPI application for serving predictions.  \n",
    "3. The “app.py” file includes:  \n",
    "   - A request schema class “ChurnRequest” to parse input data.  \n",
    "   - An endpoint “/predict” that transforms the request into a DataFrame, then predicts with the loaded model.  \n",
    "   - A basic “/” route returning a “Hello World” message.  \n",
    "\n",
    "**Key Steps**  \n",
    "- Place the correct MLflow run URI combining the run ID and model name.  \n",
    "- Load the PyFunc model with “mlflow.pyfunc.load_model.”  \n",
    "- Implement a FastAPI server that listens for JSON requests, converts them to a DataFrame, and returns a churn prediction.  \n",
    "- Launch the server via “uvicorn app:app --host 0.0.0.0 --port 8000.”  "
   ]
  },
  {
   "cell_type": "code",
   "execution_count": 14,
   "metadata": {},
   "outputs": [],
   "source": [
    "# %pip --quiet install fastapi uvicorn mlflow pydantic"
   ]
  },
  {
   "cell_type": "code",
   "execution_count": 1,
   "metadata": {},
   "outputs": [
    {
     "name": "stdout",
     "output_type": "stream",
     "text": [
      "✅ Model 'RandomForest' loaded successfully from MLflow (Run ID: d0f7d16ce56d49d3868601fc9180321d)\n"
     ]
    }
   ],
   "source": [
    "import mlflow.pyfunc\n",
    "\n",
    "# Use the correct Run ID\n",
    "run_id = \"d0f7d16ce56d49d3868601fc9180321d\"\n",
    "model_name = \"RandomForest\"  # Change if another model performed better\n",
    "\n",
    "# Correct MLflow URI\n",
    "mlflow_uri = f\"runs:/{run_id}/{model_name}\"\n",
    "\n",
    "# Load the model\n",
    "model = mlflow.pyfunc.load_model(mlflow_uri)\n",
    "\n",
    "print(f\"✅ Model '{model_name}' loaded successfully from MLflow (Run ID: {run_id})\")\n"
   ]
  },
  {
   "cell_type": "code",
   "execution_count": null,
   "metadata": {},
   "outputs": [
    {
     "name": "stdout",
     "output_type": "stream",
     "text": [
      "Overwriting app.py\n"
     ]
    }
   ],
   "source": [
    "%%writefile app.py\n",
    "from fastapi import FastAPI\n",
    "from pydantic import BaseModel\n",
    "import mlflow.pyfunc\n",
    "import pandas as pd\n",
    "\n",
    "# Initialize FastAPI app\n",
    "app = FastAPI()\n",
    "\n",
    "# Load best model from MLflow\n",
    "mlflow_uri = \"runs:/d0f7d16ce56d49d3868601fc9180321d/RandomForest\"\n",
    "model = mlflow.pyfunc.load_model(mlflow_uri)\n",
    "\n",
    "\n",
    "# Define request schema\n",
    "class ChurnRequest(BaseModel):\n",
    "    Call_Failure: int\n",
    "    Complains: int\n",
    "    Subscription_Length: int\n",
    "    Charge_Amount: int\n",
    "    Seconds_of_Use: int\n",
    "    Frequency_of_use: int\n",
    "    Frequency_of_SMS: int\n",
    "    Distinct_Called_Numbers: int\n",
    "    Age_Group: int\n",
    "    Tariff_Plan: int\n",
    "    Status: int\n",
    "    Age: int\n",
    "    Customer_Value: float\n",
    "\n",
    "\n",
    "# Define API endpoint\n",
    "@app.get(\"/\")\n",
    "def root():\n",
    "    \"\"\"\n",
    "    Root endpoint that returns a simple greeting message.\n",
    "    This serves as a health check endpoint to verify the API is running.\n",
    "\n",
    "    Returns:\n",
    "        dict: A simple JSON message indicating the API is working\n",
    "    \"\"\"\n",
    "    return {\"message\": \"Hello World\"}\n",
    "\n",
    "\n",
    "@app.post(\"/predict\")\n",
    "def predict_churn(request: ChurnRequest):\n",
    "    \"\"\"\n",
    "    Predict customer churn based on input features.\n",
    "\n",
    "    This endpoint receives customer data in the form of a ChurnRequest,\n",
    "    processes it into a format suitable for the model, and returns\n",
    "    a binary prediction indicating whether the customer is likely to churn.\n",
    "\n",
    "    Args:\n",
    "            request (ChurnRequest): The customer data containing all required features\n",
    "                                                       for making a churn prediction\n",
    "\n",
    "    Returns:\n",
    "            dict: A dictionary containing the churn prediction (0 = no churn, 1 = churn)\n",
    "    \"\"\"\n",
    "    # Convert request data to DataFrame\n",
    "    print(\"=====REQUEST======\", request)\n",
    "    data = pd.DataFrame([request.model_dump()])\n",
    "\n",
    "    # Make prediction\n",
    "    prediction = model.predict(data)\n",
    "\n",
    "    # Return result\n",
    "    return {\"churn_prediction\": int(prediction[0])}\n",
    "\n",
    "\n",
    "# To run, execute this in terminal:\n",
    "# uvicorn app:app --host 0.0.0.0 --port 8000\n"
   ]
  }
 ],
 "metadata": {
  "kernelspec": {
   "display_name": ".venv",
   "language": "python",
   "name": "python3"
  },
  "language_info": {
   "codemirror_mode": {
    "name": "ipython",
    "version": 3
   },
   "file_extension": ".py",
   "mimetype": "text/x-python",
   "name": "python",
   "nbconvert_exporter": "python",
   "pygments_lexer": "ipython3",
   "version": "3.12.7"
  }
 },
 "nbformat": 4,
 "nbformat_minor": 2
}
