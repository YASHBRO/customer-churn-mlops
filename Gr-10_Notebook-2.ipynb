{
 "cells": [
  {
   "cell_type": "code",
   "execution_count": 14,
   "metadata": {},
   "outputs": [],
   "source": [
    "# %pip --quiet install fastapi uvicorn mlflow pydantic"
   ]
  },
  {
   "cell_type": "code",
   "execution_count": 15,
   "metadata": {},
   "outputs": [
    {
     "name": "stdout",
     "output_type": "stream",
     "text": [
      "✅ Model 'RandomForest' loaded successfully from MLflow (Run ID: d615379bec8a469c963ef27e7e729bc7)\n"
     ]
    }
   ],
   "source": [
    "import mlflow.pyfunc\n",
    "\n",
    "# Use the correct Run ID\n",
    "run_id = \"d615379bec8a469c963ef27e7e729bc7\"\n",
    "model_name = \"RandomForest\"  # Change if another model performed better\n",
    "\n",
    "# Correct MLflow URI\n",
    "mlflow_uri = f\"runs:/{run_id}/{model_name}\"\n",
    "\n",
    "# Load the model\n",
    "model = mlflow.pyfunc.load_model(mlflow_uri)\n",
    "\n",
    "print(f\"✅ Model '{model_name}' loaded successfully from MLflow (Run ID: {run_id})\")\n"
   ]
  },
  {
   "cell_type": "code",
   "execution_count": 16,
   "metadata": {},
   "outputs": [
    {
     "name": "stdout",
     "output_type": "stream",
     "text": [
      "Overwriting app.py\n"
     ]
    }
   ],
   "source": [
    "%%writefile app.py\n",
    "from fastapi import FastAPI\n",
    "from pydantic import BaseModel\n",
    "import mlflow.pyfunc\n",
    "import pandas as pd\n",
    "\n",
    "# Initialize FastAPI app\n",
    "app = FastAPI()\n",
    "\n",
    "# Load best model from MLflow\n",
    "mlflow_uri = \"runs:/d615379bec8a469c963ef27e7e729bc7/RandomForest\"\n",
    "model = mlflow.pyfunc.load_model(mlflow_uri)\n",
    "\n",
    "\n",
    "# Define request schema\n",
    "class ChurnRequest(BaseModel):\n",
    "    Call_Failure: int\n",
    "    Complains: int\n",
    "    Subscription_Length: int\n",
    "    Charge_Amount: int\n",
    "    Seconds_of_Use: int\n",
    "    Frequency_of_use: int\n",
    "    Frequency_of_SMS: int\n",
    "    Distinct_Called_Numbers: int\n",
    "    Age_Group: int\n",
    "    Tariff_Plan: int\n",
    "    Status: int\n",
    "    Age: int\n",
    "    Customer_Value: float\n",
    "\n",
    "\n",
    "# Define API endpoint\n",
    "@app.get(\"/\")\n",
    "def root():\n",
    "    return {\"message\": \"Hello World\"}\n",
    "\n",
    "\n",
    "@app.post(\"/predict\")\n",
    "def predict_churn(request: ChurnRequest):\n",
    "    # Convert request data to DataFrame\n",
    "    print(\"=====REQUEST======\", request)\n",
    "    data = pd.DataFrame([request.model_dump()])\n",
    "\n",
    "    # Make prediction\n",
    "    prediction = model.predict(data)\n",
    "\n",
    "    # Return result\n",
    "    return {\"churn_prediction\": int(prediction[0])}\n",
    "\n",
    "\n",
    "# To run, execute this in terminal:\n",
    "# uvicorn app:app --host 0.0.0.0 --port 8000\n"
   ]
  }
 ],
 "metadata": {
  "kernelspec": {
   "display_name": ".venv",
   "language": "python",
   "name": "python3"
  },
  "language_info": {
   "codemirror_mode": {
    "name": "ipython",
    "version": 3
   },
   "file_extension": ".py",
   "mimetype": "text/x-python",
   "name": "python",
   "nbconvert_exporter": "python",
   "pygments_lexer": "ipython3",
   "version": "3.12.7"
  }
 },
 "nbformat": 4,
 "nbformat_minor": 2
}
