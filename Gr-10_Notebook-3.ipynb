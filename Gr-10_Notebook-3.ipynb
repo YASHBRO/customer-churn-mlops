{
 "cells": [
  {
   "cell_type": "code",
   "execution_count": 3,
   "metadata": {},
   "outputs": [],
   "source": [
    "# %pip install streamlit requests"
   ]
  },
  {
   "cell_type": "code",
   "execution_count": 1,
   "metadata": {},
   "outputs": [
    {
     "name": "stdout",
     "output_type": "stream",
     "text": [
      "Overwriting app_ui.py\n"
     ]
    }
   ],
   "source": [
    "%%writefile app_ui.py\n",
    "import streamlit as st\n",
    "import requests\n",
    "\n",
    "# FastAPI Endpoint (Ensure FastAPI is running)\n",
    "API_URL = \"http://127.0.0.1:8000/predict\"\n",
    "\n",
    "# Streamlit UI\n",
    "st.title(\"Customer Churn Prediction App\")\n",
    "\n",
    "st.markdown(\"### Enter Customer Details\")\n",
    "\n",
    "# Collect user inputs\n",
    "Call_Failure = st.number_input(\"Call Failures\", min_value=0, step=1)\n",
    "Complains = st.number_input(\"Complains\", min_value=0, step=1)\n",
    "Subscription_Length = st.number_input(\n",
    "    \"Subscription Length (months)\", min_value=1, step=1\n",
    ")\n",
    "Charge_Amount = st.number_input(\"Charge Amount ($)\", min_value=1, step=1)\n",
    "Seconds_of_Use = st.number_input(\"Seconds of Use\", min_value=0, step=1)\n",
    "Frequency_of_use = st.number_input(\"Frequency of Use\", min_value=0, step=1)\n",
    "Frequency_of_SMS = st.number_input(\"Frequency of SMS\", min_value=0, step=1)\n",
    "Distinct_Called_Numbers = st.number_input(\n",
    "    \"Distinct Called Numbers\", min_value=0, step=1\n",
    ")\n",
    "Age_Group = st.number_input(\"Age Group\", min_value=0, step=1)\n",
    "Tariff_Plan = st.number_input(\"Tariff Plan\", min_value=0, step=1)\n",
    "Status = st.number_input(\"Status\", min_value=0, step=1)\n",
    "Age = st.number_input(\"Age\", min_value=18, step=1)\n",
    "Customer_Value = st.number_input(\n",
    "    \"Customer Value\", min_value=0.0, max_value=5000.0, step=0.01\n",
    ")\n",
    "\n",
    "# Submit button\n",
    "if st.button(\"Predict Churn\"):\n",
    "    # Prepare input data\n",
    "    input_data = {\n",
    "        \"Call_Failure\": Call_Failure,\n",
    "        \"Complains\": Complains,\n",
    "        \"Subscription_Length\": Subscription_Length,\n",
    "        \"Charge_Amount\": Charge_Amount,\n",
    "        \"Seconds_of_Use\": Seconds_of_Use,\n",
    "        \"Frequency_of_use\": Frequency_of_use,\n",
    "        \"Frequency_of_SMS\": Frequency_of_SMS,\n",
    "        \"Distinct_Called_Numbers\": Distinct_Called_Numbers,\n",
    "        \"Age_Group\": Age_Group,\n",
    "        \"Tariff_Plan\": Tariff_Plan,\n",
    "        \"Status\": Status,\n",
    "        \"Age\": Age,\n",
    "        \"Customer_Value\": Customer_Value,\n",
    "    }\n",
    "\n",
    "    # Send request to FastAPI\n",
    "    response = requests.post(API_URL, json=input_data)\n",
    "\n",
    "    if response.status_code == 200:\n",
    "        result = response.json()\n",
    "        churn_prediction = result[\"churn_prediction\"]\n",
    "\n",
    "        # Display result\n",
    "        if churn_prediction == 1:\n",
    "            st.error(\"🚨 The customer is likely to churn.\")\n",
    "        else:\n",
    "            st.success(\"✅ The customer is NOT likely to churn.\")\n",
    "    else:\n",
    "        st.error(\n",
    "            \"⚠ Error fetching prediction. Make sure the FastAPI server is running.\"\n",
    "        )"
   ]
  }
 ],
 "metadata": {
  "kernelspec": {
   "display_name": ".venv",
   "language": "python",
   "name": "python3"
  },
  "language_info": {
   "codemirror_mode": {
    "name": "ipython",
    "version": 3
   },
   "file_extension": ".py",
   "mimetype": "text/x-python",
   "name": "python",
   "nbconvert_exporter": "python",
   "pygments_lexer": "ipython3",
   "version": "3.12.7"
  }
 },
 "nbformat": 4,
 "nbformat_minor": 2
}
